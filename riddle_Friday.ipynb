{
 "cells": [
  {
   "cell_type": "code",
   "execution_count": 165,
   "metadata": {},
   "outputs": [],
   "source": [
    "import pandas as pd\n",
    "import random"
   ]
  },
  {
   "cell_type": "code",
   "execution_count": 166,
   "metadata": {},
   "outputs": [],
   "source": [
    "def roll_dice():\n",
    "    num = []\n",
    "    die_1 = random.randint(1, 6)\n",
    "    die_2 = random.randint(1, 6)\n",
    "    die_3 = random.randint(1, 6)\n",
    "    die_4 = random.randint(1, 6)\n",
    "    your_choice=random.sample(range(2,13), 4)\n",
    "    if (die_1+die_2) in your_choice:\n",
    "        sameY=True\n",
    "        num.append(die_1+die_2)\n",
    "    if (die_1+die_3) in your_choice:\n",
    "        sameY=True\n",
    "        num.append( die_1+die_3)\n",
    "    if (die_1+die_4) in your_choice:\n",
    "        sameY=True\n",
    "        num.append( die_1+die_4)\n",
    "    if (die_2+die_3) in your_choice: \n",
    "        sameY=True\n",
    "        num.append( die_2+die_3)\n",
    "    if (die_2+die_4) in your_choice: \n",
    "        sameY=True\n",
    "        num.append( die_2+die_4)\n",
    "    if (die_3+die_4) in your_choice: \n",
    "        sameY=True\n",
    "        num.append( die_3+die_4)\n",
    "    else:\n",
    "        sameY=False\n",
    "    \n",
    "    \n",
    "    return [sameY,num]\n",
    "\n"
   ]
  },
  {
   "cell_type": "code",
   "execution_count": 167,
   "metadata": {},
   "outputs": [
    {
     "data": {
      "text/plain": [
       "[False, [6, 8, 11]]"
      ]
     },
     "execution_count": 167,
     "metadata": {},
     "output_type": "execute_result"
    }
   ],
   "source": [
    "roll_dice()\n"
   ]
  },
  {
   "cell_type": "code",
   "execution_count": 168,
   "metadata": {},
   "outputs": [],
   "source": [
    "num_simulations = 10000\n",
    "max_num_rolls = 1000\n",
    "\n",
    "win_probability = []\n",
    "end_balance = []"
   ]
  },
  {
   "cell_type": "code",
   "execution_count": 169,
   "metadata": {},
   "outputs": [],
   "source": [
    "for i in range(num_simulations):\n",
    "    num_rolls = [0]\n",
    "    num_wins = 0\n",
    "    append_nums=[]\n",
    "    while num_rolls[-1] < max_num_rolls:\n",
    "        same = roll_dice()\n",
    "        \n",
    "\n",
    "        if same[0]:\n",
    "            num_wins += 1\n",
    "            append_nums.append(same[1])\n",
    "\n",
    "        num_rolls.append(num_rolls[-1] + 1)\n",
    "    win_probability.append(num_wins/num_rolls[-1])"
   ]
  },
  {
   "cell_type": "code",
   "execution_count": 170,
   "metadata": {},
   "outputs": [],
   "source": [
    "\n",
    "overall_win_probability = sum(win_probability)/len(win_probability)\n"
   ]
  },
  {
   "cell_type": "code",
   "execution_count": 171,
   "metadata": {},
   "outputs": [
    {
     "data": {
      "text/plain": [
       "0.3635787000000007"
      ]
     },
     "execution_count": 171,
     "metadata": {},
     "output_type": "execute_result"
    }
   ],
   "source": [
    "overall_win_probability"
   ]
  },
  {
   "cell_type": "code",
   "execution_count": 173,
   "metadata": {},
   "outputs": [],
   "source": [
    "flat_list = []\n",
    "for sublist in append_nums:\n",
    "    for item in sublist:\n",
    "        flat_list.append(item)"
   ]
  },
  {
   "cell_type": "code",
   "execution_count": 178,
   "metadata": {},
   "outputs": [
    {
     "data": {
      "text/plain": [
       "(array([ 36.,  55., 113., 141., 161., 190., 158., 121., 101.,  55.,  33.]),\n",
       " array([ 2,  3,  4,  5,  6,  7,  8,  9, 10, 11, 12, 13]),\n",
       " <BarContainer object of 11 artists>)"
      ]
     },
     "execution_count": 178,
     "metadata": {},
     "output_type": "execute_result"
    },
    {
     "data": {
      "image/png": "[encoded data removed]",
      "text/plain": [
       "<Figure size 432x288 with 1 Axes>"
      ]
     },
     "metadata": {
      "needs_background": "light"
     },
     "output_type": "display_data"
    }
   ],
   "source": [
    "import matplotlib.pyplot as plt\n",
    "bin_ranges = [2, 3, 4, 5,6,7,8,9,10,11,12,13]\n",
    "plt.hist(flat_list,  bins=bin_ranges, edgecolor='black')\n"
   ]
  },
  {
   "cell_type": "code",
   "execution_count": 187,
   "metadata": {},
   "outputs": [
    {
     "name": "stdout",
     "output_type": "stream",
     "text": [
      "190 161 158 141\n"
     ]
    }
   ],
   "source": [
    "print(flat_list.count(7),\n",
    "flat_list.count(6),\n",
    "flat_list.count(8),\n",
    "flat_list.count(5))"
   ]
  },
  {
   "cell_type": "markdown",
   "metadata": {},
   "source": [
    "##### Best odds: 65% chance of winning with (5,6,7,8)"
   ]
  }
 ],
 "metadata": {
  "interpreter": {
   "hash": "c905f131b60f9b28faec7ce9d37d80a372e3e619d1a2a0f0d2b39f3511b7b289"
  },
  "kernelspec": {
   "display_name": "Python 3.8.5 ('env': venv)",
   "language": "python",
   "name": "python3"
  },
  "language_info": {
   "codemirror_mode": {
    "name": "ipython",
    "version": 3
   },
   "file_extension": ".py",
   "mimetype": "text/x-python",
   "name": "python",
   "nbconvert_exporter": "python",
   "pygments_lexer": "ipython3",
   "version": "3.8.5"
  },
  "orig_nbformat": 4
 },
 "nbformat": 4,
 "nbformat_minor": 2
}
